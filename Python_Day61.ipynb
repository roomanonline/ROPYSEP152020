{
 "cells": [
  {
   "cell_type": "markdown",
   "metadata": {},
   "source": [
    "# Important Instructions"
   ]
  },
  {
   "cell_type": "markdown",
   "metadata": {},
   "source": [
    "###### I hope you enjoyed Python classes and have built a good foundation for the logic involved. Now lets solve a few intresting questions to see what kind of logic you can come up with :)"
   ]
  },
  {
   "cell_type": "markdown",
   "metadata": {},
   "source": [
    "###### Write a script to compute 5/0 and use try/except to catch the exceptions. \n",
    "\n",
    "Sample Input/output:\n",
    "\n",
    "Enter the first number:5\n",
    "\n",
    "Enter the second number:0\n",
    "\n",
    "Enter valid input\n",
    "\n"
   ]
  },
  {
   "cell_type": "code",
   "execution_count": null,
   "metadata": {},
   "outputs": [],
   "source": []
  },
  {
   "cell_type": "markdown",
   "metadata": {},
   "source": [
    "###### Write a script which takes age as input. As age is an integer value:\n",
    "\n",
    "if user enters non integer value then code should encounter and exception\n",
    "\n",
    "if user enters age as 0,print a message as shown below.\n",
    "\n",
    "Hint: use try/except/else to catch the exceptions and validate age.\n",
    "\n",
    "<b>Sample Input/Output:</b>\n",
    "\n",
    "Enter your age: a\n",
    "\n",
    "You have entered an invalid value.\n",
    "\n",
    "<b>Sample Input/Output:</b>\n",
    "\n",
    "Enter your age: 0\n",
    "\n",
    "Invalid age\n",
    "\n",
    "\n",
    "<b>Sample Input/Output:</b>\n",
    "\n",
    "Enter your age: 23\n",
    "\n",
    "23\n"
   ]
  },
  {
   "cell_type": "code",
   "execution_count": null,
   "metadata": {},
   "outputs": [],
   "source": []
  }
 ],
 "metadata": {
  "kernelspec": {
   "display_name": "Python 3",
   "language": "python",
   "name": "python3"
  },
  "language_info": {
   "codemirror_mode": {
    "name": "ipython",
    "version": 3
   },
   "file_extension": ".py",
   "mimetype": "text/x-python",
   "name": "python",
   "nbconvert_exporter": "python",
   "pygments_lexer": "ipython3",
   "version": "3.7.3"
  }
 },
 "nbformat": 4,
 "nbformat_minor": 4
}
