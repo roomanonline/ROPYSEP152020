{
 "cells": [
  {
   "cell_type": "markdown",
   "metadata": {},
   "source": [
    "# Important Instructions"
   ]
  },
  {
   "cell_type": "markdown",
   "metadata": {},
   "source": [
    "###### I hope you enjoyed Python classes and have built a good foundation for the logic involved. Now lets solve a few intresting questions to see what kind of logic you can come up with :)"
   ]
  },
  {
   "cell_type": "markdown",
   "metadata": {},
   "source": [
    "###### Write a script to define a function which takes two argument ie. list and a dictionary and handles various types of exception as shown below:\n",
    "\n",
    "<b>a)If  user input is 20 and 0 , catch an exception using ZeroDivisionError</b>\n",
    "\n",
    "Sample Output:\n",
    "\n",
    "Enter first number between 1-10: 20\n",
    "\n",
    "Enter second number between 1-10: 0\n",
    "\n",
    "Invalid Input\n",
    "\n",
    "\n",
    "<b>b)If user input is ‘a’ and 20,catch an exception using ValueError</b>\n",
    "\n",
    "Sample Output:\n",
    "\n",
    "Enter first number between 1-10:5\n",
    "\n",
    "Enter second number between 1-10:a\n",
    "\n",
    "Enter only integer\n",
    "\n",
    "\n",
    "<b>c)Using loop try to print all the element in list, if user tries to exceed the limit catch the exception using IndexError</b>\n",
    "\n",
    "Sample Input: [10,20,30]\n",
    "\n",
    "Sample Output:\n",
    "\n",
    "10\n",
    "\n",
    "20\n",
    "\n",
    "30\n",
    "\n",
    "List Index not Found\n",
    "\n",
    "<b>d)Try to get the dictionary value using key,if user inputs wrong key : catch the exception using KeyError.</b>\n",
    "\n",
    "Sample Input:\n",
    "\n",
    "d =  {2:\"TWO\",4:\"Four\",6:\"SIX\"}\n",
    "\n",
    "Sample Output:\n",
    "\n",
    "Dictionary Key Not Found\n",
    "\n",
    "\n",
    "<b>e)\tOther than key if user try to fetch the dictionary value using string literal, catch the exception using NameError</b>\n",
    "\n",
    "Sample Input: d =  {2:\"TWO\",4:\"Four\",6:\"SIX\"}\n",
    "\n",
    "Sample Output:\n",
    "\n",
    "Dictionary Name not Found\n"
   ]
  },
  {
   "cell_type": "code",
   "execution_count": null,
   "metadata": {},
   "outputs": [],
   "source": []
  }
 ],
 "metadata": {
  "kernelspec": {
   "display_name": "Python 3",
   "language": "python",
   "name": "python3"
  },
  "language_info": {
   "codemirror_mode": {
    "name": "ipython",
    "version": 3
   },
   "file_extension": ".py",
   "mimetype": "text/x-python",
   "name": "python",
   "nbconvert_exporter": "python",
   "pygments_lexer": "ipython3",
   "version": "3.7.3"
  }
 },
 "nbformat": 4,
 "nbformat_minor": 4
}
